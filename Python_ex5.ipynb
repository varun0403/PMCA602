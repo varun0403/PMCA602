{
 "cells": [
  {
   "cell_type": "code",
   "execution_count": 1,
   "id": "97cd3123-4f49-4cde-9399-7a93998ec80b",
   "metadata": {},
   "outputs": [],
   "source": [
    "#q1"
   ]
  },
  {
   "cell_type": "code",
   "execution_count": 2,
   "id": "3e2e36be-b9b9-4b2d-bd55-55e1408975f7",
   "metadata": {},
   "outputs": [],
   "source": [
    "#a"
   ]
  },
  {
   "cell_type": "code",
   "execution_count": 3,
   "id": "3ae124ab-0be6-45a7-b044-8cb21287ce8a",
   "metadata": {},
   "outputs": [],
   "source": [
    "data = {}"
   ]
  },
  {
   "cell_type": "code",
   "execution_count": 5,
   "id": "b4e27a72-798f-4565-9b3a-8d7a084c41b4",
   "metadata": {},
   "outputs": [
    {
     "name": "stdin",
     "output_type": "stream",
     "text": [
      "Enter dict length:  4\n",
      "Enter key:  1\n",
      "Enter value:  red\n",
      "Enter key:  2\n",
      "Enter value:  blue\n",
      "Enter key:  3\n",
      "Enter value:  green\n",
      "Enter key:  4\n",
      "Enter value:  white\n"
     ]
    },
    {
     "name": "stdout",
     "output_type": "stream",
     "text": [
      "Dictionary Output: {1: 'red', 2: 'blue', 3: 'green', 4: 'white'}\n",
      "Tuple Output     : ((1, 'red'), (2, 'blue'), (3, 'green'), (4, 'white'))\n"
     ]
    }
   ],
   "source": [
    "n = int(input(\"Enter dict length: \"))\n",
    "for i in range(n):\n",
    "    key = int(input(\"Enter key: \"))\n",
    "    val = input(\"Enter value: \")\n",
    "    data[key] = val\n",
    "\n",
    "data_tup = tuple(data.items())\n",
    "print(f\"Dictionary Output: {data}\")\n",
    "print(f\"Tuple Output     : {data_tup}\")"
   ]
  },
  {
   "cell_type": "code",
   "execution_count": 6,
   "id": "acd12edc-03bf-4308-9d56-0830108fcf28",
   "metadata": {},
   "outputs": [],
   "source": [
    "#b"
   ]
  },
  {
   "cell_type": "code",
   "execution_count": 28,
   "id": "2e2ee54e-f26e-4118-a852-f31dae889afa",
   "metadata": {},
   "outputs": [
    {
     "name": "stdout",
     "output_type": "stream",
     "text": [
      "red->3\n",
      "blue->4\n",
      "green->5\n",
      "white->5\n"
     ]
    }
   ],
   "source": [
    "data_length = {}\n",
    "keys = list(data.values())\n",
    "for i in keys:\n",
    "    data_length[i] = len(i)\n",
    "\n",
    "for i,j in data_length.items():\n",
    "    print(f\"{i}->{j}\")"
   ]
  },
  {
   "cell_type": "code",
   "execution_count": 8,
   "id": "06a9d05a-ff91-42e1-9aa8-24a94c11d958",
   "metadata": {},
   "outputs": [],
   "source": [
    "#c"
   ]
  },
  {
   "cell_type": "code",
   "execution_count": 9,
   "id": "35385b66-49dd-4600-8da6-3a899532a706",
   "metadata": {},
   "outputs": [
    {
     "name": "stdin",
     "output_type": "stream",
     "text": [
      "enter key:  3\n",
      "enter val:  green\n"
     ]
    },
    {
     "name": "stdout",
     "output_type": "stream",
     "text": [
      "available\n"
     ]
    }
   ],
   "source": [
    "temp_key = int(input(\"enter key: \"))\n",
    "temp_val = input(\"enter val: \")\n",
    "temp_data = (temp_key,temp_val)\n",
    "if temp_data in data.items():\n",
    "    print(\"available\")\n",
    "else:\n",
    "    print('NA')"
   ]
  },
  {
   "cell_type": "code",
   "execution_count": 10,
   "id": "3f332d1a-0bb5-4bac-b087-bda7e69f57ae",
   "metadata": {},
   "outputs": [],
   "source": [
    "#q2"
   ]
  },
  {
   "cell_type": "code",
   "execution_count": 11,
   "id": "af425953-076f-4a50-a5ba-d8ca218e99f3",
   "metadata": {},
   "outputs": [],
   "source": [
    "#a"
   ]
  },
  {
   "cell_type": "code",
   "execution_count": 18,
   "id": "618bfb08-38fb-401a-993a-a2b544ba5b56",
   "metadata": {},
   "outputs": [],
   "source": [
    "menu = {\n",
    "    \"Biriyani\":{\n",
    "        \"Price\":520,\n",
    "        \"Rating\":4.32\n",
    "    },\n",
    "    \"Fried Rice\":{\n",
    "        \"Price\":110,\n",
    "        \"Rating\":4.17\n",
    "    },\n",
    "    \"Tea\":{\n",
    "        \"Price\":10,\n",
    "        \"Rating\":4.89\n",
    "    },\n",
    "    \"Pasta\":{\n",
    "        \"Price\":510,\n",
    "        \"Rating\":4.39\n",
    "    }\n",
    "}"
   ]
  },
  {
   "cell_type": "code",
   "execution_count": 19,
   "id": "db41a8fb-eef2-413c-bfef-ebd34b3d8555",
   "metadata": {},
   "outputs": [
    {
     "name": "stdout",
     "output_type": "stream",
     "text": [
      "['Biriyani', 'Pasta']\n"
     ]
    }
   ],
   "source": [
    "max_price = 500\n",
    "max_price_items = []\n",
    "items = list(menu.keys())\n",
    "for i in items:\n",
    "    if menu[i]['Price'] > max_price:\n",
    "        max_price_items.append(i)\n",
    "\n",
    "print(max_price_items)"
   ]
  },
  {
   "cell_type": "code",
   "execution_count": 20,
   "id": "9e495dd7-6b83-414a-b4f6-12d68d8c9759",
   "metadata": {},
   "outputs": [],
   "source": [
    "#b"
   ]
  },
  {
   "cell_type": "code",
   "execution_count": 21,
   "id": "9aef2acb-5ea0-4c73-9f2e-00c46955ce48",
   "metadata": {},
   "outputs": [
    {
     "name": "stdout",
     "output_type": "stream",
     "text": [
      "Tea\n"
     ]
    }
   ],
   "source": [
    "max_rating = 0\n",
    "max_price_item = None\n",
    "items = list(menu.keys())\n",
    "for i in items:\n",
    "    if menu[i]['Rating'] > max_rating:\n",
    "        max_price_item = i\n",
    "        max_rating = menu[i]['Rating']\n",
    "\n",
    "print(max_price_item)"
   ]
  },
  {
   "cell_type": "code",
   "execution_count": 22,
   "id": "6edb460d-578c-4318-a46c-aec39cc31c4f",
   "metadata": {},
   "outputs": [],
   "source": [
    "#c"
   ]
  },
  {
   "cell_type": "code",
   "execution_count": 27,
   "id": "5cf74e35-62bf-45ac-a29a-581e4ceed27e",
   "metadata": {},
   "outputs": [
    {
     "name": "stdout",
     "output_type": "stream",
     "text": [
      "Tea {'Price': 10, 'Rating': 4.89}\n",
      "Pasta {'Price': 510, 'Rating': 4.39}\n",
      "Biriyani {'Price': 520, 'Rating': 4.32}\n",
      "Fried Rice {'Price': 110, 'Rating': 4.17}\n"
     ]
    }
   ],
   "source": [
    "sorted_menu = dict(sorted(menu.items(), key=lambda item: item[1][\"Rating\"], reverse=True))\n",
    "for i,j in sorted_menu.items():\n",
    "    print(i,j)"
   ]
  },
  {
   "cell_type": "code",
   "execution_count": null,
   "id": "8acf4786-2538-425d-a8f3-251192342c94",
   "metadata": {},
   "outputs": [],
   "source": []
  }
 ],
 "metadata": {
  "kernelspec": {
   "display_name": "Python 3 (ipykernel)",
   "language": "python",
   "name": "python3"
  },
  "language_info": {
   "codemirror_mode": {
    "name": "ipython",
    "version": 3
   },
   "file_extension": ".py",
   "mimetype": "text/x-python",
   "name": "python",
   "nbconvert_exporter": "python",
   "pygments_lexer": "ipython3",
   "version": "3.12.4"
  }
 },
 "nbformat": 4,
 "nbformat_minor": 5
}
